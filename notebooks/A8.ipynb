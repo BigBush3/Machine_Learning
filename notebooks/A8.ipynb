{
 "cells": [
  {
   "cell_type": "code",
   "execution_count": 1,
   "metadata": {
    "collapsed": true
   },
   "outputs": [],
   "source": [
    "import numpy as np\n",
    "import pandas as pd\n",
    "from tqdm import tqdm\n",
    "from sklearn.base import BaseEstimator\n",
    "from sklearn.metrics import mean_squared_error, log_loss, roc_auc_score\n",
    "from sklearn.model_selection import train_test_split\n",
    "%matplotlib inline\n",
    "from matplotlib import pyplot as plt\n",
    "import seaborn as sns\n",
    "from sklearn.preprocessing import StandardScaler"
   ]
  },
  {
   "cell_type": "code",
   "execution_count": 2,
   "outputs": [],
   "source": [
    "class SGDRegressor(BaseEstimator):\n",
    "    def __init__(self, eta=1e-3, n_epochs=3):\n",
    "        self.eta = eta\n",
    "        self.n_epochs = n_epochs\n",
    "        self.mse_ = []\n",
    "        self.weights_ = []\n",
    "\n",
    "    def fit(self, X, y):\n",
    "        # add a column of ones to the left from X\n",
    "        X = np.hstack([np.ones([X.shape[0], 1]), X])\n",
    "\n",
    "        # initialize w with zeros, (d + 1)-dimensional (2-dimensional)\n",
    "        w = np.zeros(X.shape[1])\n",
    "\n",
    "        for it in tqdm(range(self.n_epochs)):\n",
    "            for i in range(X.shape[0]):\n",
    "\n",
    "                # new_w is used for simultanious updates of w_0, w_1, ..., w_d\n",
    "                new_w = w.copy()\n",
    "                # special (simpler) formula for w_0\n",
    "                new_w[0] += self.eta * (y[i] - w.dot(X[i, :]))\n",
    "                for j in range(1, X.shape[1]):\n",
    "                    new_w[j] += self.eta * (y[i] - w.dot(X[i, :])) * X[i, j]\n",
    "                w = new_w.copy()\n",
    "\n",
    "                # store the current weight vector\n",
    "                self.weights_.append(w)\n",
    "                # store current loss function\n",
    "                self.mse_.append(mean_squared_error(y, X.dot(w)))\n",
    "        # the \"best\" vector of weights\n",
    "        self.w_ = self.weights_[np.argmin(self.mse_)]\n",
    "\n",
    "        return self\n",
    "\n",
    "    def predict(self, X):\n",
    "        # add a column of ones to the left from X\n",
    "        X = np.hstack([np.ones([X.shape[0], 1]), X])\n",
    "        # linear prediction\n",
    "        return X.dot(self.w_)"
   ],
   "metadata": {
    "collapsed": false,
    "pycharm": {
     "name": "#%%\n"
    }
   }
  },
  {
   "cell_type": "code",
   "execution_count": null,
   "outputs": [],
   "source": [
    "data_demo = pd.read_csv('../datasets/weights_heights.csv')"
   ],
   "metadata": {
    "collapsed": false,
    "pycharm": {
     "name": "#%%\n"
    }
   }
  }
 ],
 "metadata": {
  "kernelspec": {
   "display_name": "Python 3",
   "language": "python",
   "name": "python3"
  },
  "language_info": {
   "codemirror_mode": {
    "name": "ipython",
    "version": 2
   },
   "file_extension": ".py",
   "mimetype": "text/x-python",
   "name": "python",
   "nbconvert_exporter": "python",
   "pygments_lexer": "ipython2",
   "version": "2.7.6"
  }
 },
 "nbformat": 4,
 "nbformat_minor": 0
}