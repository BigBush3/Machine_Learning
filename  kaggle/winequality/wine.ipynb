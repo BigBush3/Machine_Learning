{
 "cells": [
  {
   "cell_type": "code",
   "execution_count": 1,
   "metadata": {
    "collapsed": true
   },
   "outputs": [],
   "source": [
    "import warnings\n",
    "warnings.filterwarnings('ignore')\n",
    "import numpy as np\n",
    "import pandas as pd\n",
    "from sklearn.metrics.regression import mean_squared_error\n",
    "from sklearn.preprocessing import StandardScaler\n",
    "from sklearn.model_selection import GridSearchCV\n",
    "from sklearn.model_selection import cross_val_score, train_test_split\n",
    "from sklearn.linear_model import LinearRegression, LassoCV, Lasso\n",
    "from sklearn.ensemble import RandomForestRegressor\n"
   ]
  },
  {
   "cell_type": "code",
   "execution_count": 2,
   "outputs": [],
   "source": [
    "data = pd.read_csv('../../datasets/winequality-white.csv')"
   ],
   "metadata": {
    "collapsed": false,
    "pycharm": {
     "name": "#%%\n"
    }
   }
  },
  {
   "cell_type": "code",
   "execution_count": 3,
   "outputs": [
    {
     "data": {
      "text/plain": "   fixed acidity  volatile acidity  citric acid  residual sugar  chlorides  \\\n0            7.0              0.27         0.36            20.7      0.045   \n1            6.3              0.30         0.34             1.6      0.049   \n2            8.1              0.28         0.40             6.9      0.050   \n3            7.2              0.23         0.32             8.5      0.058   \n4            7.2              0.23         0.32             8.5      0.058   \n\n   free sulfur dioxide  total sulfur dioxide  density    pH  sulphates  \\\n0                 45.0                 170.0   1.0010  3.00       0.45   \n1                 14.0                 132.0   0.9940  3.30       0.49   \n2                 30.0                  97.0   0.9951  3.26       0.44   \n3                 47.0                 186.0   0.9956  3.19       0.40   \n4                 47.0                 186.0   0.9956  3.19       0.40   \n\n   alcohol  quality  \n0      8.8        6  \n1      9.5        6  \n2     10.1        6  \n3      9.9        6  \n4      9.9        6  ",
      "text/html": "<div>\n<style scoped>\n    .dataframe tbody tr th:only-of-type {\n        vertical-align: middle;\n    }\n\n    .dataframe tbody tr th {\n        vertical-align: top;\n    }\n\n    .dataframe thead th {\n        text-align: right;\n    }\n</style>\n<table border=\"1\" class=\"dataframe\">\n  <thead>\n    <tr style=\"text-align: right;\">\n      <th></th>\n      <th>fixed acidity</th>\n      <th>volatile acidity</th>\n      <th>citric acid</th>\n      <th>residual sugar</th>\n      <th>chlorides</th>\n      <th>free sulfur dioxide</th>\n      <th>total sulfur dioxide</th>\n      <th>density</th>\n      <th>pH</th>\n      <th>sulphates</th>\n      <th>alcohol</th>\n      <th>quality</th>\n    </tr>\n  </thead>\n  <tbody>\n    <tr>\n      <th>0</th>\n      <td>7.0</td>\n      <td>0.27</td>\n      <td>0.36</td>\n      <td>20.7</td>\n      <td>0.045</td>\n      <td>45.0</td>\n      <td>170.0</td>\n      <td>1.0010</td>\n      <td>3.00</td>\n      <td>0.45</td>\n      <td>8.8</td>\n      <td>6</td>\n    </tr>\n    <tr>\n      <th>1</th>\n      <td>6.3</td>\n      <td>0.30</td>\n      <td>0.34</td>\n      <td>1.6</td>\n      <td>0.049</td>\n      <td>14.0</td>\n      <td>132.0</td>\n      <td>0.9940</td>\n      <td>3.30</td>\n      <td>0.49</td>\n      <td>9.5</td>\n      <td>6</td>\n    </tr>\n    <tr>\n      <th>2</th>\n      <td>8.1</td>\n      <td>0.28</td>\n      <td>0.40</td>\n      <td>6.9</td>\n      <td>0.050</td>\n      <td>30.0</td>\n      <td>97.0</td>\n      <td>0.9951</td>\n      <td>3.26</td>\n      <td>0.44</td>\n      <td>10.1</td>\n      <td>6</td>\n    </tr>\n    <tr>\n      <th>3</th>\n      <td>7.2</td>\n      <td>0.23</td>\n      <td>0.32</td>\n      <td>8.5</td>\n      <td>0.058</td>\n      <td>47.0</td>\n      <td>186.0</td>\n      <td>0.9956</td>\n      <td>3.19</td>\n      <td>0.40</td>\n      <td>9.9</td>\n      <td>6</td>\n    </tr>\n    <tr>\n      <th>4</th>\n      <td>7.2</td>\n      <td>0.23</td>\n      <td>0.32</td>\n      <td>8.5</td>\n      <td>0.058</td>\n      <td>47.0</td>\n      <td>186.0</td>\n      <td>0.9956</td>\n      <td>3.19</td>\n      <td>0.40</td>\n      <td>9.9</td>\n      <td>6</td>\n    </tr>\n  </tbody>\n</table>\n</div>"
     },
     "execution_count": 3,
     "metadata": {},
     "output_type": "execute_result"
    }
   ],
   "source": [
    "data.head()"
   ],
   "metadata": {
    "collapsed": false,
    "pycharm": {
     "name": "#%%\n"
    }
   }
  },
  {
   "cell_type": "code",
   "execution_count": 4,
   "outputs": [
    {
     "name": "stdout",
     "output_type": "stream",
     "text": [
      "<class 'pandas.core.frame.DataFrame'>\n",
      "RangeIndex: 4898 entries, 0 to 4897\n",
      "Data columns (total 12 columns):\n",
      " #   Column                Non-Null Count  Dtype  \n",
      "---  ------                --------------  -----  \n",
      " 0   fixed acidity         4898 non-null   float64\n",
      " 1   volatile acidity      4898 non-null   float64\n",
      " 2   citric acid           4898 non-null   float64\n",
      " 3   residual sugar        4898 non-null   float64\n",
      " 4   chlorides             4898 non-null   float64\n",
      " 5   free sulfur dioxide   4898 non-null   float64\n",
      " 6   total sulfur dioxide  4898 non-null   float64\n",
      " 7   density               4898 non-null   float64\n",
      " 8   pH                    4898 non-null   float64\n",
      " 9   sulphates             4898 non-null   float64\n",
      " 10  alcohol               4898 non-null   float64\n",
      " 11  quality               4898 non-null   int64  \n",
      "dtypes: float64(11), int64(1)\n",
      "memory usage: 459.3 KB\n"
     ]
    }
   ],
   "source": [
    "data.info()"
   ],
   "metadata": {
    "collapsed": false,
    "pycharm": {
     "name": "#%%\n"
    }
   }
  },
  {
   "cell_type": "code",
   "execution_count": 6,
   "outputs": [],
   "source": [
    "y = data.quality\n",
    "X = data.drop(['quality'], axis=1)"
   ],
   "metadata": {
    "collapsed": false,
    "pycharm": {
     "name": "#%%\n"
    }
   }
  },
  {
   "cell_type": "code",
   "execution_count": 7,
   "outputs": [],
   "source": [
    "X_train, X_test, y_train, y_test = train_test_split(X, y, test_size=0.3, random_state=17)"
   ],
   "metadata": {
    "collapsed": false,
    "pycharm": {
     "name": "#%%\n"
    }
   }
  },
  {
   "cell_type": "code",
   "execution_count": 8,
   "outputs": [],
   "source": [
    "scaler = StandardScaler()"
   ],
   "metadata": {
    "collapsed": false,
    "pycharm": {
     "name": "#%%\n"
    }
   }
  },
  {
   "cell_type": "code",
   "execution_count": 9,
   "outputs": [],
   "source": [
    "X_train_scaled = scaler.fit_transform(X_train)\n",
    "X_holdout_scaled = scaler.transform((X_test))"
   ],
   "metadata": {
    "collapsed": false,
    "pycharm": {
     "name": "#%%\n"
    }
   }
  },
  {
   "cell_type": "code",
   "execution_count": 17,
   "outputs": [],
   "source": [
    "linreg = LinearRegression()\n",
    "clf = linreg.fit(X_train_scaled, y_train)"
   ],
   "metadata": {
    "collapsed": false,
    "pycharm": {
     "name": "#%%\n"
    }
   }
  },
  {
   "cell_type": "code",
   "execution_count": 14,
   "outputs": [
    {
     "name": "stdout",
     "output_type": "stream",
     "text": [
      "Mean squared error (train): 0.558\n",
      "Mean squared error (test): 0.584\n"
     ]
    }
   ],
   "source": [
    "print(\"Mean squared error (train): %.3f\" % mean_squared_error(linreg.predict(X_train_scaled), y_train))\n",
    "print(\"Mean squared error (test): %.3f\" % mean_squared_error(linreg.predict(X_holdout_scaled), y_test))"
   ],
   "metadata": {
    "collapsed": false,
    "pycharm": {
     "name": "#%%\n"
    }
   }
  },
  {
   "cell_type": "code",
   "execution_count": 24,
   "outputs": [
    {
     "data": {
      "text/plain": "array([ 9.78219223e-02, -1.92259947e-01, -1.83224449e-04,  5.38164096e-01,\n        8.12724353e-03,  4.21804406e-02,  1.43040227e-02, -6.65720472e-01,\n        1.50036006e-01,  6.20533605e-02,  1.29533447e-01])"
     },
     "execution_count": 24,
     "metadata": {},
     "output_type": "execute_result"
    }
   ],
   "source": [
    "clf.coef_"
   ],
   "metadata": {
    "collapsed": false,
    "pycharm": {
     "name": "#%%\n"
    }
   }
  },
  {
   "cell_type": "code",
   "execution_count": 27,
   "outputs": [],
   "source": [
    "linreg_coef = pd.DataFrame({'importance': clf.coef_}, index=X.columns)"
   ],
   "metadata": {
    "collapsed": false,
    "pycharm": {
     "name": "#%%\n"
    }
   }
  },
  {
   "cell_type": "code",
   "execution_count": 30,
   "outputs": [
    {
     "data": {
      "text/plain": "                      importance\nresidual sugar          0.538164\npH                      0.150036\nalcohol                 0.129533\nfixed acidity           0.097822\nsulphates               0.062053\nfree sulfur dioxide     0.042180\ntotal sulfur dioxide    0.014304\nchlorides               0.008127\ncitric acid            -0.000183\nvolatile acidity       -0.192260\ndensity                -0.665720",
      "text/html": "<div>\n<style scoped>\n    .dataframe tbody tr th:only-of-type {\n        vertical-align: middle;\n    }\n\n    .dataframe tbody tr th {\n        vertical-align: top;\n    }\n\n    .dataframe thead th {\n        text-align: right;\n    }\n</style>\n<table border=\"1\" class=\"dataframe\">\n  <thead>\n    <tr style=\"text-align: right;\">\n      <th></th>\n      <th>importance</th>\n    </tr>\n  </thead>\n  <tbody>\n    <tr>\n      <th>residual sugar</th>\n      <td>0.538164</td>\n    </tr>\n    <tr>\n      <th>pH</th>\n      <td>0.150036</td>\n    </tr>\n    <tr>\n      <th>alcohol</th>\n      <td>0.129533</td>\n    </tr>\n    <tr>\n      <th>fixed acidity</th>\n      <td>0.097822</td>\n    </tr>\n    <tr>\n      <th>sulphates</th>\n      <td>0.062053</td>\n    </tr>\n    <tr>\n      <th>free sulfur dioxide</th>\n      <td>0.042180</td>\n    </tr>\n    <tr>\n      <th>total sulfur dioxide</th>\n      <td>0.014304</td>\n    </tr>\n    <tr>\n      <th>chlorides</th>\n      <td>0.008127</td>\n    </tr>\n    <tr>\n      <th>citric acid</th>\n      <td>-0.000183</td>\n    </tr>\n    <tr>\n      <th>volatile acidity</th>\n      <td>-0.192260</td>\n    </tr>\n    <tr>\n      <th>density</th>\n      <td>-0.665720</td>\n    </tr>\n  </tbody>\n</table>\n</div>"
     },
     "execution_count": 30,
     "metadata": {},
     "output_type": "execute_result"
    }
   ],
   "source": [
    "linreg_coef.sort_values(by='importance', ascending=False)"
   ],
   "metadata": {
    "collapsed": false,
    "pycharm": {
     "name": "#%%\n"
    }
   }
  },
  {
   "cell_type": "code",
   "execution_count": 31,
   "outputs": [
    {
     "data": {
      "text/plain": "Lasso(alpha=0.01, random_state=17)"
     },
     "execution_count": 31,
     "metadata": {},
     "output_type": "execute_result"
    }
   ],
   "source": [
    "lasso1 = Lasso(random_state=17, alpha=.01)\n",
    "lasso1.fit(X_train_scaled, y_train)\n"
   ],
   "metadata": {
    "collapsed": false,
    "pycharm": {
     "name": "#%%\n"
    }
   }
  },
  {
   "cell_type": "code",
   "execution_count": 33,
   "outputs": [],
   "source": [
    "lasso1_coef = pd.DataFrame({'importance': lasso1.coef_}, index=X.columns)"
   ],
   "metadata": {
    "collapsed": false,
    "pycharm": {
     "name": "#%%\n"
    }
   }
  },
  {
   "cell_type": "code",
   "execution_count": 35,
   "outputs": [
    {
     "data": {
      "text/plain": "                      importance\ndensity                -0.235492\nvolatile acidity       -0.188479\nchlorides              -0.002747\nfixed acidity          -0.000000\ncitric acid            -0.000000\ntotal sulfur dioxide   -0.000000\nsulphates               0.029722\nfree sulfur dioxide     0.043088\npH                      0.067277\nresidual sugar          0.256363\nalcohol                 0.322425",
      "text/html": "<div>\n<style scoped>\n    .dataframe tbody tr th:only-of-type {\n        vertical-align: middle;\n    }\n\n    .dataframe tbody tr th {\n        vertical-align: top;\n    }\n\n    .dataframe thead th {\n        text-align: right;\n    }\n</style>\n<table border=\"1\" class=\"dataframe\">\n  <thead>\n    <tr style=\"text-align: right;\">\n      <th></th>\n      <th>importance</th>\n    </tr>\n  </thead>\n  <tbody>\n    <tr>\n      <th>density</th>\n      <td>-0.235492</td>\n    </tr>\n    <tr>\n      <th>volatile acidity</th>\n      <td>-0.188479</td>\n    </tr>\n    <tr>\n      <th>chlorides</th>\n      <td>-0.002747</td>\n    </tr>\n    <tr>\n      <th>fixed acidity</th>\n      <td>-0.000000</td>\n    </tr>\n    <tr>\n      <th>citric acid</th>\n      <td>-0.000000</td>\n    </tr>\n    <tr>\n      <th>total sulfur dioxide</th>\n      <td>-0.000000</td>\n    </tr>\n    <tr>\n      <th>sulphates</th>\n      <td>0.029722</td>\n    </tr>\n    <tr>\n      <th>free sulfur dioxide</th>\n      <td>0.043088</td>\n    </tr>\n    <tr>\n      <th>pH</th>\n      <td>0.067277</td>\n    </tr>\n    <tr>\n      <th>residual sugar</th>\n      <td>0.256363</td>\n    </tr>\n    <tr>\n      <th>alcohol</th>\n      <td>0.322425</td>\n    </tr>\n  </tbody>\n</table>\n</div>"
     },
     "execution_count": 35,
     "metadata": {},
     "output_type": "execute_result"
    }
   ],
   "source": [
    "lasso1_coef.sort_values(by='importance', ascending=True)"
   ],
   "metadata": {
    "collapsed": false,
    "pycharm": {
     "name": "#%%\n"
    }
   }
  },
  {
   "cell_type": "code",
   "execution_count": 36,
   "outputs": [],
   "source": [
    "alphas = np.logspace(-6, 2, 200)\n",
    "lasso_cv = LassoCV(random_state=17, alphas=alphas, cv=5)"
   ],
   "metadata": {
    "collapsed": false,
    "pycharm": {
     "name": "#%%\n"
    }
   }
  },
  {
   "cell_type": "code",
   "execution_count": 37,
   "outputs": [
    {
     "data": {
      "text/plain": "LassoCV(alphas=array([1.00000000e-06, 1.09698580e-06, 1.20337784e-06, 1.32008840e-06,\n       1.44811823e-06, 1.58856513e-06, 1.74263339e-06, 1.91164408e-06,\n       2.09704640e-06, 2.30043012e-06, 2.52353917e-06, 2.76828663e-06,\n       3.03677112e-06, 3.33129479e-06, 3.65438307e-06, 4.00880633e-06,\n       4.39760361e-06, 4.82410870e-06, 5.29197874e-06, 5.80522552e-06,\n       6.36824994e-06, 6.98587975e-0...\n       1.18953407e+01, 1.30490198e+01, 1.43145894e+01, 1.57029012e+01,\n       1.72258597e+01, 1.88965234e+01, 2.07292178e+01, 2.27396575e+01,\n       2.49450814e+01, 2.73644000e+01, 3.00183581e+01, 3.29297126e+01,\n       3.61234270e+01, 3.96268864e+01, 4.34701316e+01, 4.76861170e+01,\n       5.23109931e+01, 5.73844165e+01, 6.29498899e+01, 6.90551352e+01,\n       7.57525026e+01, 8.30994195e+01, 9.11588830e+01, 1.00000000e+02]),\n        cv=5, random_state=17)"
     },
     "execution_count": 37,
     "metadata": {},
     "output_type": "execute_result"
    }
   ],
   "source": [
    "lasso_cv.fit(X_train_scaled, y_train)"
   ],
   "metadata": {
    "collapsed": false,
    "pycharm": {
     "name": "#%%\n"
    }
   }
  },
  {
   "cell_type": "code",
   "execution_count": 38,
   "outputs": [
    {
     "data": {
      "text/plain": "0.0002833096101839324"
     },
     "execution_count": 38,
     "metadata": {},
     "output_type": "execute_result"
    }
   ],
   "source": [
    "lasso_cv.alpha_"
   ],
   "metadata": {
    "collapsed": false,
    "pycharm": {
     "name": "#%%\n"
    }
   }
  },
  {
   "cell_type": "code",
   "execution_count": 39,
   "outputs": [],
   "source": [
    "lasso_cv_coef = pd.DataFrame({'importance': lasso_cv.coef_}, index=X.columns)"
   ],
   "metadata": {
    "collapsed": false,
    "pycharm": {
     "name": "#%%\n"
    }
   }
  },
  {
   "cell_type": "code",
   "execution_count": 42,
   "outputs": [
    {
     "data": {
      "text/plain": "                      importance\ndensity                -0.648161\nvolatile acidity       -0.192049\ncitric acid            -0.000000\nchlorides               0.006933\ntotal sulfur dioxide    0.012969\nfree sulfur dioxide     0.042698\nsulphates               0.060939\nfixed acidity           0.093295\nalcohol                 0.137115\npH                      0.146549\nresidual sugar          0.526883",
      "text/html": "<div>\n<style scoped>\n    .dataframe tbody tr th:only-of-type {\n        vertical-align: middle;\n    }\n\n    .dataframe tbody tr th {\n        vertical-align: top;\n    }\n\n    .dataframe thead th {\n        text-align: right;\n    }\n</style>\n<table border=\"1\" class=\"dataframe\">\n  <thead>\n    <tr style=\"text-align: right;\">\n      <th></th>\n      <th>importance</th>\n    </tr>\n  </thead>\n  <tbody>\n    <tr>\n      <th>density</th>\n      <td>-0.648161</td>\n    </tr>\n    <tr>\n      <th>volatile acidity</th>\n      <td>-0.192049</td>\n    </tr>\n    <tr>\n      <th>citric acid</th>\n      <td>-0.000000</td>\n    </tr>\n    <tr>\n      <th>chlorides</th>\n      <td>0.006933</td>\n    </tr>\n    <tr>\n      <th>total sulfur dioxide</th>\n      <td>0.012969</td>\n    </tr>\n    <tr>\n      <th>free sulfur dioxide</th>\n      <td>0.042698</td>\n    </tr>\n    <tr>\n      <th>sulphates</th>\n      <td>0.060939</td>\n    </tr>\n    <tr>\n      <th>fixed acidity</th>\n      <td>0.093295</td>\n    </tr>\n    <tr>\n      <th>alcohol</th>\n      <td>0.137115</td>\n    </tr>\n    <tr>\n      <th>pH</th>\n      <td>0.146549</td>\n    </tr>\n    <tr>\n      <th>residual sugar</th>\n      <td>0.526883</td>\n    </tr>\n  </tbody>\n</table>\n</div>"
     },
     "execution_count": 42,
     "metadata": {},
     "output_type": "execute_result"
    }
   ],
   "source": [
    "lasso_cv_coef.sort_values(by='importance', ascending=True)"
   ],
   "metadata": {
    "collapsed": false,
    "pycharm": {
     "name": "#%%\n"
    }
   }
  },
  {
   "cell_type": "code",
   "execution_count": 43,
   "outputs": [
    {
     "name": "stdout",
     "output_type": "stream",
     "text": [
      "Mean squared error (train): 0.558\n",
      "Mean squared error (test): 0.583\n"
     ]
    }
   ],
   "source": [
    "print(\"Mean squared error (train): %.3f\" % mean_squared_error(lasso_cv.predict(X_train_scaled), y_train))\n",
    "print(\"Mean squared error (test): %.3f\" % mean_squared_error(lasso_cv.predict(X_holdout_scaled), y_test))\n"
   ],
   "metadata": {
    "collapsed": false,
    "pycharm": {
     "name": "#%%\n"
    }
   }
  },
  {
   "cell_type": "code",
   "execution_count": 44,
   "outputs": [
    {
     "data": {
      "text/plain": "RandomForestRegressor(random_state=17)"
     },
     "execution_count": 44,
     "metadata": {},
     "output_type": "execute_result"
    }
   ],
   "source": [
    "forest = RandomForestRegressor(random_state=17)\n",
    "forest.fit(X_train, y_train)\n"
   ],
   "metadata": {
    "collapsed": false,
    "pycharm": {
     "name": "#%%\n"
    }
   }
  },
  {
   "cell_type": "code",
   "execution_count": 46,
   "outputs": [
    {
     "data": {
      "text/plain": "-1.7838588723293292"
     },
     "execution_count": 46,
     "metadata": {},
     "output_type": "execute_result"
    }
   ],
   "source": [
    "forest.score(X_train, y_train)"
   ],
   "metadata": {
    "collapsed": false,
    "pycharm": {
     "name": "#%%\n"
    }
   }
  },
  {
   "cell_type": "code",
   "execution_count": 49,
   "outputs": [
    {
     "name": "stdout",
     "output_type": "stream",
     "text": [
      "Mean squared error (train): 0.053\n"
     ]
    },
    {
     "ename": "TypeError",
     "evalue": "only size-1 arrays can be converted to Python scalars",
     "output_type": "error",
     "traceback": [
      "\u001B[1;31m---------------------------------------------------------------------------\u001B[0m",
      "\u001B[1;31mTypeError\u001B[0m                                 Traceback (most recent call last)",
      "\u001B[1;32m<ipython-input-49-3b2f00cea1d8>\u001B[0m in \u001B[0;36m<module>\u001B[1;34m\u001B[0m\n\u001B[0;32m      1\u001B[0m \u001B[0mprint\u001B[0m\u001B[1;33m(\u001B[0m\u001B[1;34m\"Mean squared error (train): %.3f\"\u001B[0m \u001B[1;33m%\u001B[0m \u001B[0mmean_squared_error\u001B[0m\u001B[1;33m(\u001B[0m\u001B[0mforest\u001B[0m\u001B[1;33m.\u001B[0m\u001B[0mpredict\u001B[0m\u001B[1;33m(\u001B[0m\u001B[0mX_train\u001B[0m\u001B[1;33m)\u001B[0m\u001B[1;33m,\u001B[0m \u001B[0my_train\u001B[0m\u001B[1;33m)\u001B[0m\u001B[1;33m)\u001B[0m\u001B[1;33m\u001B[0m\u001B[1;33m\u001B[0m\u001B[0m\n\u001B[1;32m----> 2\u001B[1;33m \u001B[0mprint\u001B[0m\u001B[1;33m(\u001B[0m\u001B[1;34m\"Mean squared error (cv): %.3f\"\u001B[0m \u001B[1;33m%\u001B[0m \u001B[0mcross_val_score\u001B[0m\u001B[1;33m(\u001B[0m\u001B[0mforest\u001B[0m\u001B[1;33m,\u001B[0m \u001B[0mX_train\u001B[0m\u001B[1;33m,\u001B[0m \u001B[0my\u001B[0m\u001B[1;33m=\u001B[0m\u001B[0my_train\u001B[0m\u001B[1;33m,\u001B[0m \u001B[0mscoring\u001B[0m\u001B[1;33m=\u001B[0m\u001B[1;34m'neg_mean_squared_error'\u001B[0m\u001B[1;33m)\u001B[0m\u001B[1;33m)\u001B[0m\u001B[1;33m\u001B[0m\u001B[1;33m\u001B[0m\u001B[0m\n\u001B[0m\u001B[0;32m      3\u001B[0m \u001B[0mprint\u001B[0m\u001B[1;33m(\u001B[0m\u001B[1;34m\"Mean squared error (test): %.3f\"\u001B[0m \u001B[1;33m%\u001B[0m \u001B[0mmean_squared_error\u001B[0m\u001B[1;33m(\u001B[0m\u001B[0mforest\u001B[0m\u001B[1;33m.\u001B[0m\u001B[0mpredict\u001B[0m\u001B[1;33m(\u001B[0m\u001B[0mX_test\u001B[0m\u001B[1;33m)\u001B[0m\u001B[1;33m,\u001B[0m \u001B[0my_test\u001B[0m\u001B[1;33m)\u001B[0m\u001B[1;33m)\u001B[0m\u001B[1;33m\u001B[0m\u001B[1;33m\u001B[0m\u001B[0m\n\u001B[0;32m      4\u001B[0m \u001B[1;33m\u001B[0m\u001B[0m\n",
      "\u001B[1;31mTypeError\u001B[0m: only size-1 arrays can be converted to Python scalars"
     ]
    }
   ],
   "source": [
    "print(\"Mean squared error (train): %.3f\" % mean_squared_error(forest.predict(X_train), y_train))\n",
    "print(\"Mean squared error (cv): %.3f\" % cross_val_score(forest, X_train, y=y_train, scoring='neg_mean_squared_error'))\n",
    "print(\"Mean squared error (test): %.3f\" % mean_squared_error(forest.predict(X_test), y_test))"
   ],
   "metadata": {
    "collapsed": false,
    "pycharm": {
     "name": "#%%\n"
    }
   }
  },
  {
   "cell_type": "code",
   "execution_count": 50,
   "outputs": [
    {
     "name": "stdout",
     "output_type": "stream",
     "text": [
      "Mean squared error (test): 0.371\n"
     ]
    }
   ],
   "source": [
    "print(\"Mean squared error (test): %.3f\" % mean_squared_error(forest.predict(X_test), y_test))"
   ],
   "metadata": {
    "collapsed": false,
    "pycharm": {
     "name": "#%%\n"
    }
   }
  },
  {
   "cell_type": "code",
   "execution_count": 56,
   "outputs": [
    {
     "ename": "TypeError",
     "evalue": "only size-1 arrays can be converted to Python scalars",
     "output_type": "error",
     "traceback": [
      "\u001B[1;31m---------------------------------------------------------------------------\u001B[0m",
      "\u001B[1;31mTypeError\u001B[0m                                 Traceback (most recent call last)",
      "\u001B[1;32m<ipython-input-56-05e389603d82>\u001B[0m in \u001B[0;36m<module>\u001B[1;34m\u001B[0m\n\u001B[1;32m----> 1\u001B[1;33m \u001B[0mprint\u001B[0m\u001B[1;33m(\u001B[0m\u001B[1;34m\"Mean squared error (cv): %.3f\"\u001B[0m \u001B[1;33m%\u001B[0m \u001B[0mcross_val_score\u001B[0m\u001B[1;33m(\u001B[0m\u001B[0mforest\u001B[0m\u001B[1;33m,\u001B[0m \u001B[0mX_train\u001B[0m\u001B[1;33m,\u001B[0m \u001B[0my_train\u001B[0m\u001B[1;33m,\u001B[0m\u001B[1;33m)\u001B[0m\u001B[1;33m)\u001B[0m\u001B[1;33m\u001B[0m\u001B[1;33m\u001B[0m\u001B[0m\n\u001B[0m\u001B[0;32m      2\u001B[0m \u001B[1;33m\u001B[0m\u001B[0m\n",
      "\u001B[1;31mTypeError\u001B[0m: only size-1 arrays can be converted to Python scalars"
     ]
    }
   ],
   "source": [
    "print(\"Mean squared error (cv): %.3f\" % cross_val_score(forest, X_train, y_train))\n"
   ],
   "metadata": {
    "collapsed": false,
    "pycharm": {
     "name": "#%%\n"
    }
   }
  },
  {
   "cell_type": "code",
   "execution_count": 57,
   "outputs": [],
   "source": [
    "forest_params = {'max_depth': list(range(10, 25)),\n",
    "                  'min_samples_leaf': list(range(1, 8)),\n",
    "                  'max_features': list(range(6,12))}\n",
    "locally_best_forest = GridSearchCV(forest, forest_params, cv=5, n_jobs=-1, return_train_score=True)"
   ],
   "metadata": {
    "collapsed": false,
    "pycharm": {
     "name": "#%%\n"
    }
   }
  },
  {
   "cell_type": "code",
   "execution_count": 58,
   "outputs": [
    {
     "data": {
      "text/plain": "GridSearchCV(cv=5, estimator=RandomForestRegressor(random_state=17), n_jobs=-1,\n             param_grid={'max_depth': [10, 11, 12, 13, 14, 15, 16, 17, 18, 19,\n                                       20, 21, 22, 23, 24],\n                         'max_features': [6, 7, 8, 9, 10, 11],\n                         'min_samples_leaf': [1, 2, 3, 4, 5, 6, 7]},\n             return_train_score=True)"
     },
     "execution_count": 58,
     "metadata": {},
     "output_type": "execute_result"
    }
   ],
   "source": [
    "locally_best_forest.fit(X_train, y_train)"
   ],
   "metadata": {
    "collapsed": false,
    "pycharm": {
     "name": "#%%\n"
    }
   }
  },
  {
   "cell_type": "code",
   "execution_count": 59,
   "outputs": [
    {
     "data": {
      "text/plain": "({'max_depth': 21, 'max_features': 6, 'min_samples_leaf': 1},\n 0.4938417994321389)"
     },
     "execution_count": 59,
     "metadata": {},
     "output_type": "execute_result"
    }
   ],
   "source": [
    "locally_best_forest.best_params_, locally_best_forest.best_score_"
   ],
   "metadata": {
    "collapsed": false,
    "pycharm": {
     "name": "#%%\n"
    }
   }
  },
  {
   "cell_type": "code",
   "execution_count": 61,
   "outputs": [
    {
     "name": "stdout",
     "output_type": "stream",
     "text": [
      "Mean squared error (cv): 0.398\n",
      "Mean squared error (test): 2.078\n"
     ]
    }
   ],
   "source": [
    "print(\"Mean squared error (cv): %.3f\" % np.mean(np.abs(cross_val_score(locally_best_forest.best_estimator_,\n",
    "                                                        X_train_scaled, y_train,\n",
    "                                                        scoring='neg_mean_squared_error'))))\n",
    "print(\"Mean squared error (test): %.3f\" % mean_squared_error(y_test,\n",
    "                                                             locally_best_forest.predict(X_holdout_scaled)))"
   ],
   "metadata": {
    "collapsed": false,
    "pycharm": {
     "name": "#%%\n"
    }
   }
  },
  {
   "cell_type": "code",
   "execution_count": 62,
   "outputs": [
    {
     "data": {
      "text/plain": "                          coef\nalcohol               0.206056\nvolatile acidity      0.117578\nfree sulfur dioxide   0.111556\ndensity               0.088549\npH                    0.073659\ntotal sulfur dioxide  0.073640\nchlorides             0.073366\nresidual sugar        0.072072\ncitric acid           0.062601\nfixed acidity         0.061813\nsulphates             0.059111",
      "text/html": "<div>\n<style scoped>\n    .dataframe tbody tr th:only-of-type {\n        vertical-align: middle;\n    }\n\n    .dataframe tbody tr th {\n        vertical-align: top;\n    }\n\n    .dataframe thead th {\n        text-align: right;\n    }\n</style>\n<table border=\"1\" class=\"dataframe\">\n  <thead>\n    <tr style=\"text-align: right;\">\n      <th></th>\n      <th>coef</th>\n    </tr>\n  </thead>\n  <tbody>\n    <tr>\n      <th>alcohol</th>\n      <td>0.206056</td>\n    </tr>\n    <tr>\n      <th>volatile acidity</th>\n      <td>0.117578</td>\n    </tr>\n    <tr>\n      <th>free sulfur dioxide</th>\n      <td>0.111556</td>\n    </tr>\n    <tr>\n      <th>density</th>\n      <td>0.088549</td>\n    </tr>\n    <tr>\n      <th>pH</th>\n      <td>0.073659</td>\n    </tr>\n    <tr>\n      <th>total sulfur dioxide</th>\n      <td>0.073640</td>\n    </tr>\n    <tr>\n      <th>chlorides</th>\n      <td>0.073366</td>\n    </tr>\n    <tr>\n      <th>residual sugar</th>\n      <td>0.072072</td>\n    </tr>\n    <tr>\n      <th>citric acid</th>\n      <td>0.062601</td>\n    </tr>\n    <tr>\n      <th>fixed acidity</th>\n      <td>0.061813</td>\n    </tr>\n    <tr>\n      <th>sulphates</th>\n      <td>0.059111</td>\n    </tr>\n  </tbody>\n</table>\n</div>"
     },
     "execution_count": 62,
     "metadata": {},
     "output_type": "execute_result"
    }
   ],
   "source": [
    "rf_importance = pd.DataFrame(locally_best_forest.best_estimator_.feature_importances_,\n",
    "                             columns=['coef'], index=data.columns[:-1])\n",
    "rf_importance.sort_values(by='coef', ascending=False)"
   ],
   "metadata": {
    "collapsed": false,
    "pycharm": {
     "name": "#%%\n"
    }
   }
  },
  {
   "cell_type": "code",
   "execution_count": null,
   "outputs": [],
   "source": [
    "#The depency of wine quality on other features in hand is,\n",
    "# presumable,\n",
    "# non-linear.\n",
    "# So Random Forest works better in this task."
   ],
   "metadata": {
    "collapsed": false,
    "pycharm": {
     "name": "#%%\n"
    }
   }
  }
 ],
 "metadata": {
  "kernelspec": {
   "display_name": "Python 3",
   "language": "python",
   "name": "python3"
  },
  "language_info": {
   "codemirror_mode": {
    "name": "ipython",
    "version": 2
   },
   "file_extension": ".py",
   "mimetype": "text/x-python",
   "name": "python",
   "nbconvert_exporter": "python",
   "pygments_lexer": "ipython2",
   "version": "2.7.6"
  }
 },
 "nbformat": 4,
 "nbformat_minor": 0
}